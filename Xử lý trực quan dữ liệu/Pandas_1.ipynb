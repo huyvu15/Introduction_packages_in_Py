{
 "cells": [
  {
   "cell_type": "code",
   "execution_count": 5,
   "id": "7facfbdc",
   "metadata": {},
   "outputs": [
    {
     "name": "stdout",
     "output_type": "stream",
     "text": [
      "x    1\n",
      "y    2\n",
      "z    4\n",
      "dtype: int64\n"
     ]
    }
   ],
   "source": [
    "import pandas as pd\n",
    "\n",
    "mydataset = [1, 2, 4]\n",
    "b = pd.Series(mydataset, index = ['x', 'y', 'z'])\n",
    "print(b)\n"
   ]
  },
  {
   "cell_type": "code",
   "execution_count": 9,
   "id": "893b42df",
   "metadata": {},
   "outputs": [
    {
     "name": "stdout",
     "output_type": "stream",
     "text": [
      "   calories  duration\n",
      "0       420        50\n",
      "1       380        40\n",
      "2       390        45\n"
     ]
    }
   ],
   "source": [
    "import pandas as pd\n",
    "\n",
    "data = {\n",
    "  \"calories\": [420, 380, 390],\n",
    "  \"duration\": [50, 40, 45]\n",
    "}\n",
    "\n",
    "myvar = pd.DataFrame(data)\n",
    "\n",
    "print(myvar)\n"
   ]
  },
  {
   "cell_type": "code",
   "execution_count": 12,
   "id": "fe8c1670",
   "metadata": {},
   "outputs": [
    {
     "name": "stdout",
     "output_type": "stream",
     "text": [
      "   calories  duration\n",
      "0       420        50\n",
      "1       380        40\n",
      "2       390        45\n"
     ]
    }
   ],
   "source": [
    "data = {\n",
    "  \"calories\": [420, 380, 390],\n",
    "  \"duration\": [50, 40, 45]\n",
    "}\n",
    "df = pd.DataFrame(data)\n",
    "print(df)"
   ]
  },
  {
   "cell_type": "code",
   "execution_count": 14,
   "id": "9e4e2975",
   "metadata": {},
   "outputs": [
    {
     "name": "stdout",
     "output_type": "stream",
     "text": [
      "   Duration  Pulse  Maxpulse  Calories\n",
      "0        60    110       130       409\n",
      "1        60    117       145       479\n",
      "2        60    103       135       340\n",
      "3        45    109       175       282\n",
      "4        45    117       148       406\n",
      "5        60    102       127       300\n"
     ]
    }
   ],
   "source": [
    "import pandas as pd\n",
    "\n",
    "data = {\n",
    "  \"Duration\":{\n",
    "    \"0\":60,\n",
    "    \"1\":60,\n",
    "    \"2\":60,\n",
    "    \"3\":45,\n",
    "    \"4\":45,\n",
    "    \"5\":60\n",
    "  },\n",
    "  \"Pulse\":{\n",
    "    \"0\":110,\n",
    "    \"1\":117,\n",
    "    \"2\":103,\n",
    "    \"3\":109,\n",
    "    \"4\":117,\n",
    "    \"5\":102\n",
    "  },\n",
    "  \"Maxpulse\":{\n",
    "    \"0\":130,\n",
    "    \"1\":145,\n",
    "    \"2\":135,\n",
    "    \"3\":175,\n",
    "    \"4\":148,\n",
    "    \"5\":127\n",
    "  },\n",
    "  \"Calories\":{\n",
    "    \"0\":409,\n",
    "    \"1\":479,\n",
    "    \"2\":340,\n",
    "    \"3\":282,\n",
    "    \"4\":406,\n",
    "    \"5\":300\n",
    "  }\n",
    "}\n",
    "\n",
    "df = pd.DataFrame(data)\n",
    "\n",
    "print(df)"
   ]
  },
  {
   "cell_type": "markdown",
   "id": "baad3067",
   "metadata": {},
   "source": [
    "# đọc 1 file csv\n",
    "```python:\n",
    "import pandas as pd\n",
    "# đọc 1 file csv đọc file data khác chỉ cần thay chỗ csv tương ứng\n",
    "df = pd.read_csv(\"name.csv\")\n",
    "# in ra thông tin của file csv đó\n",
    "print(df.info())\n",
    "# xem tất cả các dòng cột trong bảng\n",
    "print(df.head())\n",
    " ```\n",
    "# làm sạch dữ liệu\n",
    "```python:\n",
    "import pandas as pd\n",
    "\n",
    "df = pd.read_csv('data.csv')\n",
    "\n",
    "new_df = df.dropna()\n",
    "\n",
    "print(new_df.to_string())\n",
    "```\n"
   ]
  },
  {
   "cell_type": "markdown",
   "id": "9d07f7e8",
   "metadata": {},
   "source": [
    "# return a new DataFrame with no cell empty\n",
    "```python:\n",
    "import pandas as pd\n",
    "\n",
    "df = pd.read_csv('data.csv')\n",
    "\n",
    "new_df = df.dropna()\n",
    "\n",
    "print(new_df.to_string())\n",
    "```\n",
    "# if you want to change DataFrame original. Use inplace = True:\n",
    "```python:\n",
    "import pandas as pd\n",
    "\n",
    "df = pd.read_csv('data.csv')\n",
    "\n",
    "df.dropna(inplace = True)\n",
    "\n",
    "print(df.to_string())\n",
    "```"
   ]
  },
  {
   "cell_type": "markdown",
   "id": "820bfed1",
   "metadata": {},
   "source": [
    "# Replace using Mean, Median and Mode\n",
    "**Pandas uses the mean() median() and mode() methods to calculate the respective values for a specified column:**  \n",
    "Calculate the MEAN, and replace any empty values with it:    \n",
    "+Mean = the average value (the sum of all values divided by number of values).  \n",
    "Calculate the MEDIAN, and replace any empty values with it:   \n",
    "+Median = the value in the middle, after you have sorted all values ascending.  \n",
    "Calculate the MODE, and replace any empty values with it:  \n",
    "+Mode = the value that appears most frequently.  \n",
    " \n",
    "```python:\n",
    "import pandas as pd\n",
    "\n",
    "df = pd.read_csv('data.csv')\n",
    "\n",
    "x = df[\"Calories\"].mean()\n",
    "# tương tự .median, .mode\n",
    "\n",
    "df[\"Calories\"].fillna(x, inplace = True)\n",
    "```\n",
    "# We using method duplicated() to return column ở gần và giống nhau(kiểu như bị lặp lại\n",
    "Returns True for every row that is a duplicate, othwerwise False:  \n",
    "print(df.duplicated())  \n",
    "# remove duplicates(nhân bản):\n",
    "df.drop_duplicates(inplace = True)  \n",
    "[^1] using inplace to luôn return a new DataFrame  \n"
   ]
  },
  {
   "cell_type": "markdown",
   "id": "a5fa5a90",
   "metadata": {},
   "source": [
    "# tham khảo tiếp ở: https://www.w3schools.com/python/pandas/pandas_cleaning_wrong_data.asp"
   ]
  },
  {
   "cell_type": "code",
   "execution_count": null,
   "id": "c51d0494",
   "metadata": {},
   "outputs": [],
   "source": []
  }
 ],
 "metadata": {
  "kernelspec": {
   "display_name": "Python 3 (ipykernel)",
   "language": "python",
   "name": "python3"
  },
  "language_info": {
   "codemirror_mode": {
    "name": "ipython",
    "version": 3
   },
   "file_extension": ".py",
   "mimetype": "text/x-python",
   "name": "python",
   "nbconvert_exporter": "python",
   "pygments_lexer": "ipython3",
   "version": "3.9.13"
  }
 },
 "nbformat": 4,
 "nbformat_minor": 5
}
