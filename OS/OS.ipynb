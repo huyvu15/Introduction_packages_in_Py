{
 "cells": [
  {
   "cell_type": "code",
   "execution_count": 1,
   "id": "c7f00326",
   "metadata": {},
   "outputs": [],
   "source": [
    "import os"
   ]
  },
  {
   "cell_type": "markdown",
   "id": "b46270d4",
   "metadata": {},
   "source": [
    "# Lấy thông tin về thư mục làm việc hiện tại"
   ]
  },
  {
   "cell_type": "code",
   "execution_count": 2,
   "id": "0c704ad8",
   "metadata": {},
   "outputs": [
    {
     "name": "stdout",
     "output_type": "stream",
     "text": [
      "Thư mục làm việc hiện tại: C:\\Users\\HI.WELCOME TO NET\\OS\n"
     ]
    }
   ],
   "source": [
    "current_directory = os.getcwd()\n",
    "print(\"Thư mục làm việc hiện tại:\", current_directory)"
   ]
  },
  {
   "cell_type": "markdown",
   "id": "068c8b7d",
   "metadata": {},
   "source": [
    "# Liệt kê tất cả các tệp tin và thư mục trong thư mục hiện tại"
   ]
  },
  {
   "cell_type": "code",
   "execution_count": 4,
   "id": "9cdd879d",
   "metadata": {},
   "outputs": [
    {
     "name": "stdout",
     "output_type": "stream",
     "text": [
      "Các tệp tin và thư mục trong thư mục hiện tại:\n",
      ".ipynb_checkpoints\n",
      "OS.ipynb\n"
     ]
    }
   ],
   "source": [
    "items = os.listdir(current_directory)\n",
    "print(\"Các tệp tin và thư mục trong thư mục hiện tại:\")\n",
    "for item in items:\n",
    "    print(item)"
   ]
  },
  {
   "cell_type": "markdown",
   "id": "4a3f41ce",
   "metadata": {},
   "source": [
    "# Tạo 1 thư mục mới"
   ]
  },
  {
   "cell_type": "code",
   "execution_count": 5,
   "id": "2c6148b9",
   "metadata": {},
   "outputs": [
    {
     "name": "stdout",
     "output_type": "stream",
     "text": [
      "Đã tạo thư mục mới: C:\\Users\\HI.WELCOME TO NET\\OS\\new_directory\n"
     ]
    }
   ],
   "source": [
    "new_directory = os.path.join(current_directory, \"new_directory\")\n",
    "os.mkdir(new_directory)\n",
    "print(\"Đã tạo thư mục mới:\", new_directory)"
   ]
  },
  {
   "cell_type": "markdown",
   "id": "17345064",
   "metadata": {},
   "source": [
    "# Đổi tên thư mục mới thành \"renamed_directory\""
   ]
  },
  {
   "cell_type": "code",
   "execution_count": 6,
   "id": "18ebc890",
   "metadata": {},
   "outputs": [
    {
     "name": "stdout",
     "output_type": "stream",
     "text": [
      "Đã đổi tên thư mục thành: C:\\Users\\HI.WELCOME TO NET\\OS\\renamed_directory\n"
     ]
    }
   ],
   "source": [
    "renamed_directory = os.path.join(current_directory, \"renamed_directory\")\n",
    "os.rename(new_directory, renamed_directory)\n",
    "print(\"Đã đổi tên thư mục thành:\", renamed_directory)\n"
   ]
  }
 ],
 "metadata": {
  "kernelspec": {
   "display_name": "Python 3 (ipykernel)",
   "language": "python",
   "name": "python3"
  },
  "language_info": {
   "codemirror_mode": {
    "name": "ipython",
    "version": 3
   },
   "file_extension": ".py",
   "mimetype": "text/x-python",
   "name": "python",
   "nbconvert_exporter": "python",
   "pygments_lexer": "ipython3",
   "version": "3.9.13"
  }
 },
 "nbformat": 4,
 "nbformat_minor": 5
}
